{
 "cells": [
  {
   "cell_type": "markdown",
   "id": "c6b7fd58",
   "metadata": {
    "papermill": {
     "duration": 0.003312,
     "end_time": "2025-08-03T13:27:30.949852",
     "exception": false,
     "start_time": "2025-08-03T13:27:30.946540",
     "status": "completed"
    },
    "tags": []
   },
   "source": [
    "# Carregando os dados"
   ]
  },
  {
   "cell_type": "code",
   "execution_count": 1,
   "id": "e054d5db",
   "metadata": {
    "_cell_guid": "b1076dfc-b9ad-4769-8c92-a6c4dae69d19",
    "_uuid": "8f2839f25d086af736a60e9eeb907d3b93b6e0e5",
    "execution": {
     "iopub.execute_input": "2025-08-03T13:27:30.957188Z",
     "iopub.status.busy": "2025-08-03T13:27:30.956556Z",
     "iopub.status.idle": "2025-08-03T13:27:32.822363Z",
     "shell.execute_reply": "2025-08-03T13:27:32.821311Z"
    },
    "papermill": {
     "duration": 1.871407,
     "end_time": "2025-08-03T13:27:32.824372",
     "exception": false,
     "start_time": "2025-08-03T13:27:30.952965",
     "status": "completed"
    },
    "tags": []
   },
   "outputs": [
    {
     "name": "stderr",
     "output_type": "stream",
     "text": [
      "/usr/local/lib/python3.11/dist-packages/pandas/io/formats/format.py:1458: RuntimeWarning: invalid value encountered in greater\n",
      "  has_large_values = (abs_vals > 1e6).any()\n",
      "/usr/local/lib/python3.11/dist-packages/pandas/io/formats/format.py:1459: RuntimeWarning: invalid value encountered in less\n",
      "  has_small_values = ((abs_vals < 10 ** (-self.digits)) & (abs_vals > 0)).any()\n",
      "/usr/local/lib/python3.11/dist-packages/pandas/io/formats/format.py:1459: RuntimeWarning: invalid value encountered in greater\n",
      "  has_small_values = ((abs_vals < 10 ** (-self.digits)) & (abs_vals > 0)).any()\n",
      "/usr/local/lib/python3.11/dist-packages/pandas/io/formats/format.py:1458: RuntimeWarning: invalid value encountered in greater\n",
      "  has_large_values = (abs_vals > 1e6).any()\n",
      "/usr/local/lib/python3.11/dist-packages/pandas/io/formats/format.py:1459: RuntimeWarning: invalid value encountered in less\n",
      "  has_small_values = ((abs_vals < 10 ** (-self.digits)) & (abs_vals > 0)).any()\n",
      "/usr/local/lib/python3.11/dist-packages/pandas/io/formats/format.py:1459: RuntimeWarning: invalid value encountered in greater\n",
      "  has_small_values = ((abs_vals < 10 ** (-self.digits)) & (abs_vals > 0)).any()\n"
     ]
    },
    {
     "data": {
      "text/html": [
       "<div>\n",
       "<style scoped>\n",
       "    .dataframe tbody tr th:only-of-type {\n",
       "        vertical-align: middle;\n",
       "    }\n",
       "\n",
       "    .dataframe tbody tr th {\n",
       "        vertical-align: top;\n",
       "    }\n",
       "\n",
       "    .dataframe thead th {\n",
       "        text-align: right;\n",
       "    }\n",
       "</style>\n",
       "<table border=\"1\" class=\"dataframe\">\n",
       "  <thead>\n",
       "    <tr style=\"text-align: right;\">\n",
       "      <th></th>\n",
       "      <th>id</th>\n",
       "      <th>uf</th>\n",
       "      <th>municipio</th>\n",
       "      <th>segmento_cliente</th>\n",
       "      <th>natureza_juridica</th>\n",
       "      <th>fonte_cliente</th>\n",
       "      <th>cnae_codigo</th>\n",
       "      <th>cnae_descricao</th>\n",
       "      <th>capital_social</th>\n",
       "      <th>idade_cnpj</th>\n",
       "      <th>...</th>\n",
       "      <th>serasa_contagem_protestos</th>\n",
       "      <th>serasa_idade_divida_mais_recente</th>\n",
       "      <th>serasa_credores</th>\n",
       "      <th>serasa_socio_tem_negativacao</th>\n",
       "      <th>ifood_contagem_avaliacoes</th>\n",
       "      <th>ifood_faixa_preco</th>\n",
       "      <th>google_maps_avaliacao</th>\n",
       "      <th>google_maps_contagem_avaliacoes</th>\n",
       "      <th>google_maps_tem_website</th>\n",
       "      <th>inadimplente</th>\n",
       "    </tr>\n",
       "  </thead>\n",
       "  <tbody>\n",
       "    <tr>\n",
       "      <th>0</th>\n",
       "      <td>0</td>\n",
       "      <td>PE</td>\n",
       "      <td>RECIFE</td>\n",
       "      <td>Restaurante Brasileiro</td>\n",
       "      <td>213-5 - Empresário (Individual)</td>\n",
       "      <td>Fonte 5</td>\n",
       "      <td>56.11-2-01</td>\n",
       "      <td>Restaurantes e similares</td>\n",
       "      <td>(8000, 10000]</td>\n",
       "      <td>(50, 100]</td>\n",
       "      <td>...</td>\n",
       "      <td>0</td>\n",
       "      <td>NaN</td>\n",
       "      <td>NaN</td>\n",
       "      <td>0</td>\n",
       "      <td>NaN</td>\n",
       "      <td>NaN</td>\n",
       "      <td>NaN</td>\n",
       "      <td>NaN</td>\n",
       "      <td>NaN</td>\n",
       "      <td>1</td>\n",
       "    </tr>\n",
       "    <tr>\n",
       "      <th>1</th>\n",
       "      <td>1</td>\n",
       "      <td>PE</td>\n",
       "      <td>CHA GRANDE</td>\n",
       "      <td>Pizza &amp; Massas</td>\n",
       "      <td>213-5 - Empresário (Individual)</td>\n",
       "      <td>Fonte 2</td>\n",
       "      <td>56.11-2-01</td>\n",
       "      <td>Restaurantes e similares</td>\n",
       "      <td>(3000, 5000]</td>\n",
       "      <td>(750, 900]</td>\n",
       "      <td>...</td>\n",
       "      <td>0</td>\n",
       "      <td>NaN</td>\n",
       "      <td>NaN</td>\n",
       "      <td>1</td>\n",
       "      <td>NaN</td>\n",
       "      <td>NaN</td>\n",
       "      <td>NaN</td>\n",
       "      <td>NaN</td>\n",
       "      <td>NaN</td>\n",
       "      <td>1</td>\n",
       "    </tr>\n",
       "    <tr>\n",
       "      <th>2</th>\n",
       "      <td>2</td>\n",
       "      <td>PB</td>\n",
       "      <td>JOAO PESSOA</td>\n",
       "      <td>Doces &amp; Confeitaria</td>\n",
       "      <td>213-5 - Empresário (Individual)</td>\n",
       "      <td>Fonte 2</td>\n",
       "      <td>10.93-7-01</td>\n",
       "      <td>Fabricação de produtos derivados do cacau e de...</td>\n",
       "      <td>(200, 1000]</td>\n",
       "      <td>(150, 250]</td>\n",
       "      <td>...</td>\n",
       "      <td>0</td>\n",
       "      <td>NaN</td>\n",
       "      <td>NaN</td>\n",
       "      <td>1</td>\n",
       "      <td>NaN</td>\n",
       "      <td>NaN</td>\n",
       "      <td>NaN</td>\n",
       "      <td>NaN</td>\n",
       "      <td>NaN</td>\n",
       "      <td>0</td>\n",
       "    </tr>\n",
       "    <tr>\n",
       "      <th>3</th>\n",
       "      <td>3</td>\n",
       "      <td>CE</td>\n",
       "      <td>CASCAVEL</td>\n",
       "      <td>Lanches &amp; Salgados</td>\n",
       "      <td>213-5 - Empresário (Individual)</td>\n",
       "      <td>Fonte 2</td>\n",
       "      <td>56.20-1-04</td>\n",
       "      <td>Fornecimento de alimentos preparados preponder...</td>\n",
       "      <td>(1000, 1500]</td>\n",
       "      <td>(100, 150]</td>\n",
       "      <td>...</td>\n",
       "      <td>0</td>\n",
       "      <td>NaN</td>\n",
       "      <td>NaN</td>\n",
       "      <td>0</td>\n",
       "      <td>NaN</td>\n",
       "      <td>NaN</td>\n",
       "      <td>NaN</td>\n",
       "      <td>NaN</td>\n",
       "      <td>NaN</td>\n",
       "      <td>1</td>\n",
       "    </tr>\n",
       "    <tr>\n",
       "      <th>4</th>\n",
       "      <td>4</td>\n",
       "      <td>PE</td>\n",
       "      <td>RECIFE</td>\n",
       "      <td>Mercearia &amp; Mercado</td>\n",
       "      <td>213-5 - Empresário (Individual)</td>\n",
       "      <td>Fonte 2</td>\n",
       "      <td>56.11-2-03</td>\n",
       "      <td>Lanchonetes, casas de chá, de sucos e similares</td>\n",
       "      <td>(200, 1000]</td>\n",
       "      <td>(1600, 2000]</td>\n",
       "      <td>...</td>\n",
       "      <td>0</td>\n",
       "      <td>47.0</td>\n",
       "      <td>Bancos e Financeiro</td>\n",
       "      <td>0</td>\n",
       "      <td>NaN</td>\n",
       "      <td>NaN</td>\n",
       "      <td>NaN</td>\n",
       "      <td>NaN</td>\n",
       "      <td>NaN</td>\n",
       "      <td>0</td>\n",
       "    </tr>\n",
       "  </tbody>\n",
       "</table>\n",
       "<p>5 rows × 21 columns</p>\n",
       "</div>"
      ],
      "text/plain": [
       "   id  uf    municipio        segmento_cliente  \\\n",
       "0   0  PE       RECIFE  Restaurante Brasileiro   \n",
       "1   1  PE   CHA GRANDE          Pizza & Massas   \n",
       "2   2  PB  JOAO PESSOA     Doces & Confeitaria   \n",
       "3   3  CE     CASCAVEL      Lanches & Salgados   \n",
       "4   4  PE       RECIFE     Mercearia & Mercado   \n",
       "\n",
       "                 natureza_juridica fonte_cliente cnae_codigo  \\\n",
       "0  213-5 - Empresário (Individual)       Fonte 5  56.11-2-01   \n",
       "1  213-5 - Empresário (Individual)       Fonte 2  56.11-2-01   \n",
       "2  213-5 - Empresário (Individual)       Fonte 2  10.93-7-01   \n",
       "3  213-5 - Empresário (Individual)       Fonte 2  56.20-1-04   \n",
       "4  213-5 - Empresário (Individual)       Fonte 2  56.11-2-03   \n",
       "\n",
       "                                      cnae_descricao capital_social  \\\n",
       "0                           Restaurantes e similares  (8000, 10000]   \n",
       "1                           Restaurantes e similares   (3000, 5000]   \n",
       "2  Fabricação de produtos derivados do cacau e de...    (200, 1000]   \n",
       "3  Fornecimento de alimentos preparados preponder...   (1000, 1500]   \n",
       "4    Lanchonetes, casas de chá, de sucos e similares    (200, 1000]   \n",
       "\n",
       "     idade_cnpj  ...  serasa_contagem_protestos  \\\n",
       "0     (50, 100]  ...                          0   \n",
       "1    (750, 900]  ...                          0   \n",
       "2    (150, 250]  ...                          0   \n",
       "3    (100, 150]  ...                          0   \n",
       "4  (1600, 2000]  ...                          0   \n",
       "\n",
       "   serasa_idade_divida_mais_recente      serasa_credores  \\\n",
       "0                               NaN                  NaN   \n",
       "1                               NaN                  NaN   \n",
       "2                               NaN                  NaN   \n",
       "3                               NaN                  NaN   \n",
       "4                              47.0  Bancos e Financeiro   \n",
       "\n",
       "  serasa_socio_tem_negativacao  ifood_contagem_avaliacoes ifood_faixa_preco  \\\n",
       "0                            0                        NaN               NaN   \n",
       "1                            1                        NaN               NaN   \n",
       "2                            1                        NaN               NaN   \n",
       "3                            0                        NaN               NaN   \n",
       "4                            0                        NaN               NaN   \n",
       "\n",
       "  google_maps_avaliacao google_maps_contagem_avaliacoes  \\\n",
       "0                   NaN                             NaN   \n",
       "1                   NaN                             NaN   \n",
       "2                   NaN                             NaN   \n",
       "3                   NaN                             NaN   \n",
       "4                   NaN                             NaN   \n",
       "\n",
       "  google_maps_tem_website  inadimplente  \n",
       "0                     NaN             1  \n",
       "1                     NaN             1  \n",
       "2                     NaN             0  \n",
       "3                     NaN             1  \n",
       "4                     NaN             0  \n",
       "\n",
       "[5 rows x 21 columns]"
      ]
     },
     "execution_count": 1,
     "metadata": {},
     "output_type": "execute_result"
    }
   ],
   "source": [
    "# This Python 3 environment comes with many helpful analytics libraries installed\n",
    "# It is defined by the kaggle/python Docker image: https://github.com/kaggle/docker-python\n",
    "# For example, here's several helpful packages to load\n",
    "\n",
    "import numpy as np # linear algebra\n",
    "import pandas as pd # data processing, CSV file I/O (e.g. pd.read_csv)\n",
    "\n",
    "# Input data files are available in the read-only \"../input/\" directory\n",
    "# For example, running this (by clicking run or pressing Shift+Enter) will list all files under the input directory\n",
    "\n",
    "import pandas as pd\n",
    "df_train = pd.read_csv(\"/kaggle/input/analise-de-inadimplencia-praso/train.csv\")\n",
    "df_train.head()\n",
    "# You can write up to 20GB to the current directory (/kaggle/working/) that gets preserved as output when you create a version using \"Save & Run All\" \n",
    "# You can also write temporary files to /kaggle/temp/, but they won't be saved outside of the current session"
   ]
  },
  {
   "cell_type": "markdown",
   "id": "291a8b73",
   "metadata": {
    "papermill": {
     "duration": 0.00295,
     "end_time": "2025-08-03T13:27:32.830791",
     "exception": false,
     "start_time": "2025-08-03T13:27:32.827841",
     "status": "completed"
    },
    "tags": []
   },
   "source": [
    "# Pré processamento dos dados"
   ]
  },
  {
   "cell_type": "code",
   "execution_count": 2,
   "id": "9d5928c8",
   "metadata": {
    "execution": {
     "iopub.execute_input": "2025-08-03T13:27:32.838386Z",
     "iopub.status.busy": "2025-08-03T13:27:32.838092Z",
     "iopub.status.idle": "2025-08-03T13:27:32.848422Z",
     "shell.execute_reply": "2025-08-03T13:27:32.847586Z"
    },
    "papermill": {
     "duration": 0.015897,
     "end_time": "2025-08-03T13:27:32.849917",
     "exception": false,
     "start_time": "2025-08-03T13:27:32.834020",
     "status": "completed"
    },
    "tags": []
   },
   "outputs": [],
   "source": [
    "X = df_train.loc[:, ['capital_social', 'idade_cnpj', 'segmento_cliente']]\n",
    "Y = df_train.loc[:, ['inadimplente']].rename({'inadimplente': 'target'}, axis = 1)"
   ]
  },
  {
   "cell_type": "code",
   "execution_count": 3,
   "id": "3ee3ba33",
   "metadata": {
    "execution": {
     "iopub.execute_input": "2025-08-03T13:27:32.857502Z",
     "iopub.status.busy": "2025-08-03T13:27:32.857183Z",
     "iopub.status.idle": "2025-08-03T13:27:34.255420Z",
     "shell.execute_reply": "2025-08-03T13:27:34.254485Z"
    },
    "papermill": {
     "duration": 1.404249,
     "end_time": "2025-08-03T13:27:34.257420",
     "exception": false,
     "start_time": "2025-08-03T13:27:32.853171",
     "status": "completed"
    },
    "tags": []
   },
   "outputs": [],
   "source": [
    "from sklearn.model_selection import train_test_split\n",
    "\n",
    "X_train, X_test, y_train, y_test = train_test_split(X, Y, test_size=0.2, random_state=42)"
   ]
  },
  {
   "cell_type": "code",
   "execution_count": 4,
   "id": "cc9eed55",
   "metadata": {
    "execution": {
     "iopub.execute_input": "2025-08-03T13:27:34.265474Z",
     "iopub.status.busy": "2025-08-03T13:27:34.265049Z",
     "iopub.status.idle": "2025-08-03T13:27:34.291844Z",
     "shell.execute_reply": "2025-08-03T13:27:34.290797Z"
    },
    "papermill": {
     "duration": 0.032604,
     "end_time": "2025-08-03T13:27:34.293419",
     "exception": false,
     "start_time": "2025-08-03T13:27:34.260815",
     "status": "completed"
    },
    "tags": []
   },
   "outputs": [],
   "source": [
    "from sklearn.preprocessing import OneHotEncoder\n",
    "import numpy as np\n",
    "\n",
    "# Initialize the OneHotEncoder\n",
    "encoder = OneHotEncoder(sparse_output=False)  # Set sparse_output=False for a dense array\n",
    "\n",
    "# Fit and transform the data\n",
    "x_train_encoded = encoder.fit_transform(X_train)\n",
    "x_test_encoded = encoder.transform(X_test)"
   ]
  },
  {
   "cell_type": "markdown",
   "id": "67f2750d",
   "metadata": {
    "papermill": {
     "duration": 0.002832,
     "end_time": "2025-08-03T13:27:34.299519",
     "exception": false,
     "start_time": "2025-08-03T13:27:34.296687",
     "status": "completed"
    },
    "tags": []
   },
   "source": [
    "# Modelo"
   ]
  },
  {
   "cell_type": "code",
   "execution_count": 5,
   "id": "20443679",
   "metadata": {
    "execution": {
     "iopub.execute_input": "2025-08-03T13:27:34.306652Z",
     "iopub.status.busy": "2025-08-03T13:27:34.306364Z",
     "iopub.status.idle": "2025-08-03T13:27:35.944842Z",
     "shell.execute_reply": "2025-08-03T13:27:35.943910Z"
    },
    "papermill": {
     "duration": 1.643989,
     "end_time": "2025-08-03T13:27:35.946484",
     "exception": false,
     "start_time": "2025-08-03T13:27:34.302495",
     "status": "completed"
    },
    "tags": []
   },
   "outputs": [],
   "source": [
    "from sklearn.ensemble import RandomForestClassifier\n",
    "from sklearn.metrics import accuracy_score\n",
    "\n",
    "# Initialize the classifier\n",
    "rf = RandomForestClassifier(n_estimators=100, random_state=42)\n",
    "\n",
    "# Train the model\n",
    "rf.fit(x_train_encoded, y_train.target.values)\n",
    "\n",
    "# Make predictions\n",
    "y_pred = rf.predict(x_test_encoded)\n"
   ]
  },
  {
   "cell_type": "markdown",
   "id": "8a2e891e",
   "metadata": {
    "papermill": {
     "duration": 0.00294,
     "end_time": "2025-08-03T13:27:35.952797",
     "exception": false,
     "start_time": "2025-08-03T13:27:35.949857",
     "status": "completed"
    },
    "tags": []
   },
   "source": [
    "# Metrificando resultados"
   ]
  },
  {
   "cell_type": "code",
   "execution_count": 6,
   "id": "25985c26",
   "metadata": {
    "execution": {
     "iopub.execute_input": "2025-08-03T13:27:35.960103Z",
     "iopub.status.busy": "2025-08-03T13:27:35.959824Z",
     "iopub.status.idle": "2025-08-03T13:27:35.966974Z",
     "shell.execute_reply": "2025-08-03T13:27:35.966148Z"
    },
    "papermill": {
     "duration": 0.012567,
     "end_time": "2025-08-03T13:27:35.968469",
     "exception": false,
     "start_time": "2025-08-03T13:27:35.955902",
     "status": "completed"
    },
    "tags": []
   },
   "outputs": [
    {
     "data": {
      "text/plain": [
       "0.588314005352364"
      ]
     },
     "execution_count": 6,
     "metadata": {},
     "output_type": "execute_result"
    }
   ],
   "source": [
    "# Evaluate accuracy\n",
    "accuracy = accuracy_score(y_test.target.values, y_pred)\n",
    "accuracy"
   ]
  },
  {
   "cell_type": "code",
   "execution_count": 7,
   "id": "6aae0f5c",
   "metadata": {
    "execution": {
     "iopub.execute_input": "2025-08-03T13:27:35.976260Z",
     "iopub.status.busy": "2025-08-03T13:27:35.975991Z",
     "iopub.status.idle": "2025-08-03T13:27:36.432914Z",
     "shell.execute_reply": "2025-08-03T13:27:36.431953Z"
    },
    "papermill": {
     "duration": 0.462942,
     "end_time": "2025-08-03T13:27:36.434775",
     "exception": false,
     "start_time": "2025-08-03T13:27:35.971833",
     "status": "completed"
    },
    "tags": []
   },
   "outputs": [
    {
     "name": "stdout",
     "output_type": "stream",
     "text": [
      "ROC AUC Score: 0.6047\n"
     ]
    },
    {
     "data": {
      "image/png": "[encoded data removed]",
      "text/plain": [
       "<Figure size 1000x800 with 1 Axes>"
      ]
     },
     "metadata": {},
     "output_type": "display_data"
    }
   ],
   "source": [
    "import matplotlib.pyplot as plt\n",
    "from sklearn.metrics import roc_curve, auc, roc_auc_score\n",
    "\n",
    "# Para calcular a curva ROC, precisamos das probabilidades da classe positiva.\n",
    "# O método predict_proba retorna as probabilidades para cada classe [classe_0, classe_1]\n",
    "y_pred_proba = rf.predict_proba(x_test_encoded)[:, 1]\n",
    "\n",
    "# Calcular a pontuação ROC AUC\n",
    "roc_auc_score_value = roc_auc_score(y_test.target.values, y_pred_proba)\n",
    "print(f\"ROC AUC Score: {roc_auc_score_value:.4f}\")\n",
    "\n",
    "# Calcular a curva ROC (taxa de falsos positivos, taxa de verdadeiros positivos)\n",
    "fpr, tpr, thresholds = roc_curve(y_test.target.values, y_pred_proba)\n",
    "\n",
    "# Calcular a área sob a curva (AUC) para o plot\n",
    "roc_auc = auc(fpr, tpr)\n",
    "\n",
    "# Plotar o gráfico da curva ROC\n",
    "plt.figure(figsize=(10, 8))\n",
    "plt.plot(fpr, tpr, color='darkorange', lw=2, label=f'Curva ROC (área = {roc_auc:.2f})')\n",
    "plt.plot([0, 1], [0, 1], color='navy', lw=2, linestyle='--', label='Classificador Aleatório')\n",
    "plt.xlim([0.0, 1.0])\n",
    "plt.ylim([0.0, 1.05])\n",
    "plt.xlabel('Taxa de Falsos Positivos (FPR)')\n",
    "plt.ylabel('Taxa de Verdadeiros Positivos (TPR)')\n",
    "plt.title('Curva Característica de Operação do Receptor (ROC)')\n",
    "plt.legend(loc=\"lower right\")\n",
    "plt.grid(True)\n",
    "plt.show()\n"
   ]
  },
  {
   "cell_type": "markdown",
   "id": "fa70e085",
   "metadata": {
    "papermill": {
     "duration": 0.004555,
     "end_time": "2025-08-03T13:27:36.443872",
     "exception": false,
     "start_time": "2025-08-03T13:27:36.439317",
     "status": "completed"
    },
    "tags": []
   },
   "source": [
    "# Previsão"
   ]
  },
  {
   "cell_type": "code",
   "execution_count": 8,
   "id": "d1251549",
   "metadata": {
    "execution": {
     "iopub.execute_input": "2025-08-03T13:27:36.455265Z",
     "iopub.status.busy": "2025-08-03T13:27:36.454950Z",
     "iopub.status.idle": "2025-08-03T13:27:36.491212Z",
     "shell.execute_reply": "2025-08-03T13:27:36.489793Z"
    },
    "papermill": {
     "duration": 0.044287,
     "end_time": "2025-08-03T13:27:36.492891",
     "exception": false,
     "start_time": "2025-08-03T13:27:36.448604",
     "status": "completed"
    },
    "tags": []
   },
   "outputs": [
    {
     "name": "stderr",
     "output_type": "stream",
     "text": [
      "/usr/local/lib/python3.11/dist-packages/pandas/io/formats/format.py:1458: RuntimeWarning: invalid value encountered in greater\n",
      "  has_large_values = (abs_vals > 1e6).any()\n",
      "/usr/local/lib/python3.11/dist-packages/pandas/io/formats/format.py:1459: RuntimeWarning: invalid value encountered in less\n",
      "  has_small_values = ((abs_vals < 10 ** (-self.digits)) & (abs_vals > 0)).any()\n",
      "/usr/local/lib/python3.11/dist-packages/pandas/io/formats/format.py:1459: RuntimeWarning: invalid value encountered in greater\n",
      "  has_small_values = ((abs_vals < 10 ** (-self.digits)) & (abs_vals > 0)).any()\n"
     ]
    },
    {
     "data": {
      "text/html": [
       "<div>\n",
       "<style scoped>\n",
       "    .dataframe tbody tr th:only-of-type {\n",
       "        vertical-align: middle;\n",
       "    }\n",
       "\n",
       "    .dataframe tbody tr th {\n",
       "        vertical-align: top;\n",
       "    }\n",
       "\n",
       "    .dataframe thead th {\n",
       "        text-align: right;\n",
       "    }\n",
       "</style>\n",
       "<table border=\"1\" class=\"dataframe\">\n",
       "  <thead>\n",
       "    <tr style=\"text-align: right;\">\n",
       "      <th></th>\n",
       "      <th>id</th>\n",
       "      <th>uf</th>\n",
       "      <th>municipio</th>\n",
       "      <th>segmento_cliente</th>\n",
       "      <th>natureza_juridica</th>\n",
       "      <th>fonte_cliente</th>\n",
       "      <th>cnae_codigo</th>\n",
       "      <th>cnae_descricao</th>\n",
       "      <th>capital_social</th>\n",
       "      <th>idade_cnpj</th>\n",
       "      <th>serasa_contagem_negativacoes</th>\n",
       "      <th>serasa_contagem_protestos</th>\n",
       "      <th>serasa_idade_divida_mais_recente</th>\n",
       "      <th>serasa_credores</th>\n",
       "      <th>serasa_socio_tem_negativacao</th>\n",
       "      <th>ifood_contagem_avaliacoes</th>\n",
       "      <th>ifood_faixa_preco</th>\n",
       "      <th>google_maps_avaliacao</th>\n",
       "      <th>google_maps_contagem_avaliacoes</th>\n",
       "      <th>google_maps_tem_website</th>\n",
       "    </tr>\n",
       "  </thead>\n",
       "  <tbody>\n",
       "    <tr>\n",
       "      <th>0</th>\n",
       "      <td>396</td>\n",
       "      <td>PE</td>\n",
       "      <td>PAULISTA</td>\n",
       "      <td>Japonês &amp; Chinês &amp; Asiático</td>\n",
       "      <td>213-5 - Empresário (Individual)</td>\n",
       "      <td>Fonte 5</td>\n",
       "      <td>56.12-1-00</td>\n",
       "      <td>Serviços ambulantes de alimentação</td>\n",
       "      <td>(200, 1000]</td>\n",
       "      <td>(0, 25]</td>\n",
       "      <td>0</td>\n",
       "      <td>0</td>\n",
       "      <td>NaN</td>\n",
       "      <td>NaN</td>\n",
       "      <td>1</td>\n",
       "      <td>NaN</td>\n",
       "      <td>NaN</td>\n",
       "      <td>NaN</td>\n",
       "      <td>NaN</td>\n",
       "      <td>NaN</td>\n",
       "    </tr>\n",
       "    <tr>\n",
       "      <th>1</th>\n",
       "      <td>247</td>\n",
       "      <td>PE</td>\n",
       "      <td>CARUARU</td>\n",
       "      <td>Lanches &amp; Salgados</td>\n",
       "      <td>213-5 - Empresário (Individual)</td>\n",
       "      <td>Fonte 2</td>\n",
       "      <td>56.11-2-01</td>\n",
       "      <td>Restaurantes e similares</td>\n",
       "      <td>(5000, 8000]</td>\n",
       "      <td>(100, 150]</td>\n",
       "      <td>0</td>\n",
       "      <td>0</td>\n",
       "      <td>NaN</td>\n",
       "      <td>NaN</td>\n",
       "      <td>0</td>\n",
       "      <td>NaN</td>\n",
       "      <td>NaN</td>\n",
       "      <td>NaN</td>\n",
       "      <td>NaN</td>\n",
       "      <td>NaN</td>\n",
       "    </tr>\n",
       "    <tr>\n",
       "      <th>2</th>\n",
       "      <td>9261</td>\n",
       "      <td>PB</td>\n",
       "      <td>CABEDELO</td>\n",
       "      <td>Mercearia &amp; Mercado</td>\n",
       "      <td>213-5 - Empresário (Individual)</td>\n",
       "      <td>Fonte 1</td>\n",
       "      <td>47.12-1-00</td>\n",
       "      <td>Comércio varejista de mercadorias em geral, co...</td>\n",
       "      <td>(5000, 8000]</td>\n",
       "      <td>(1300, 1600]</td>\n",
       "      <td>0</td>\n",
       "      <td>0</td>\n",
       "      <td>NaN</td>\n",
       "      <td>NaN</td>\n",
       "      <td>1</td>\n",
       "      <td>NaN</td>\n",
       "      <td>NaN</td>\n",
       "      <td>NaN</td>\n",
       "      <td>NaN</td>\n",
       "      <td>NaN</td>\n",
       "    </tr>\n",
       "    <tr>\n",
       "      <th>3</th>\n",
       "      <td>1430</td>\n",
       "      <td>CE</td>\n",
       "      <td>FORTALEZA</td>\n",
       "      <td>Restaurante Brasileiro</td>\n",
       "      <td>213-5 - Empresário (Individual)</td>\n",
       "      <td>Fonte 2</td>\n",
       "      <td>56.11-2-01</td>\n",
       "      <td>Restaurantes e similares</td>\n",
       "      <td>(5000, 8000]</td>\n",
       "      <td>(0, 25]</td>\n",
       "      <td>0</td>\n",
       "      <td>0</td>\n",
       "      <td>NaN</td>\n",
       "      <td>NaN</td>\n",
       "      <td>0</td>\n",
       "      <td>NaN</td>\n",
       "      <td>NaN</td>\n",
       "      <td>NaN</td>\n",
       "      <td>NaN</td>\n",
       "      <td>NaN</td>\n",
       "    </tr>\n",
       "    <tr>\n",
       "      <th>4</th>\n",
       "      <td>6472</td>\n",
       "      <td>PE</td>\n",
       "      <td>PAULISTA</td>\n",
       "      <td>Lanches &amp; Salgados</td>\n",
       "      <td>213-5 - Empresário (Individual)</td>\n",
       "      <td>Fonte 5</td>\n",
       "      <td>56.11-2-03</td>\n",
       "      <td>Lanchonetes, casas de chá, de sucos e similares</td>\n",
       "      <td>(2000, 3000]</td>\n",
       "      <td>(0, 25]</td>\n",
       "      <td>0</td>\n",
       "      <td>0</td>\n",
       "      <td>NaN</td>\n",
       "      <td>NaN</td>\n",
       "      <td>0</td>\n",
       "      <td>NaN</td>\n",
       "      <td>NaN</td>\n",
       "      <td>NaN</td>\n",
       "      <td>NaN</td>\n",
       "      <td>NaN</td>\n",
       "    </tr>\n",
       "  </tbody>\n",
       "</table>\n",
       "</div>"
      ],
      "text/plain": [
       "     id  uf  municipio             segmento_cliente  \\\n",
       "0   396  PE   PAULISTA  Japonês & Chinês & Asiático   \n",
       "1   247  PE    CARUARU           Lanches & Salgados   \n",
       "2  9261  PB   CABEDELO          Mercearia & Mercado   \n",
       "3  1430  CE  FORTALEZA       Restaurante Brasileiro   \n",
       "4  6472  PE   PAULISTA           Lanches & Salgados   \n",
       "\n",
       "                 natureza_juridica fonte_cliente cnae_codigo  \\\n",
       "0  213-5 - Empresário (Individual)       Fonte 5  56.12-1-00   \n",
       "1  213-5 - Empresário (Individual)       Fonte 2  56.11-2-01   \n",
       "2  213-5 - Empresário (Individual)       Fonte 1  47.12-1-00   \n",
       "3  213-5 - Empresário (Individual)       Fonte 2  56.11-2-01   \n",
       "4  213-5 - Empresário (Individual)       Fonte 5  56.11-2-03   \n",
       "\n",
       "                                      cnae_descricao capital_social  \\\n",
       "0                 Serviços ambulantes de alimentação    (200, 1000]   \n",
       "1                           Restaurantes e similares   (5000, 8000]   \n",
       "2  Comércio varejista de mercadorias em geral, co...   (5000, 8000]   \n",
       "3                           Restaurantes e similares   (5000, 8000]   \n",
       "4    Lanchonetes, casas de chá, de sucos e similares   (2000, 3000]   \n",
       "\n",
       "     idade_cnpj  serasa_contagem_negativacoes  serasa_contagem_protestos  \\\n",
       "0       (0, 25]                             0                          0   \n",
       "1    (100, 150]                             0                          0   \n",
       "2  (1300, 1600]                             0                          0   \n",
       "3       (0, 25]                             0                          0   \n",
       "4       (0, 25]                             0                          0   \n",
       "\n",
       "   serasa_idade_divida_mais_recente serasa_credores  \\\n",
       "0                               NaN             NaN   \n",
       "1                               NaN             NaN   \n",
       "2                               NaN             NaN   \n",
       "3                               NaN             NaN   \n",
       "4                               NaN             NaN   \n",
       "\n",
       "   serasa_socio_tem_negativacao ifood_contagem_avaliacoes ifood_faixa_preco  \\\n",
       "0                             1                       NaN               NaN   \n",
       "1                             0                       NaN               NaN   \n",
       "2                             1                       NaN               NaN   \n",
       "3                             0                       NaN               NaN   \n",
       "4                             0                       NaN               NaN   \n",
       "\n",
       "  google_maps_avaliacao google_maps_contagem_avaliacoes  \\\n",
       "0                   NaN                             NaN   \n",
       "1                   NaN                             NaN   \n",
       "2                   NaN                             NaN   \n",
       "3                   NaN                             NaN   \n",
       "4                   NaN                             NaN   \n",
       "\n",
       "   google_maps_tem_website  \n",
       "0                      NaN  \n",
       "1                      NaN  \n",
       "2                      NaN  \n",
       "3                      NaN  \n",
       "4                      NaN  "
      ]
     },
     "execution_count": 8,
     "metadata": {},
     "output_type": "execute_result"
    }
   ],
   "source": [
    "import pandas as pd\n",
    "df_test = pd.read_csv(\"/kaggle/input/analise-de-inadimplencia-praso/test.csv\")\n",
    "df_test.head()"
   ]
  },
  {
   "cell_type": "code",
   "execution_count": 9,
   "id": "1b16b846",
   "metadata": {
    "execution": {
     "iopub.execute_input": "2025-08-03T13:27:36.504423Z",
     "iopub.status.busy": "2025-08-03T13:27:36.503606Z",
     "iopub.status.idle": "2025-08-03T13:27:36.559044Z",
     "shell.execute_reply": "2025-08-03T13:27:36.558042Z"
    },
    "papermill": {
     "duration": 0.062954,
     "end_time": "2025-08-03T13:27:36.560800",
     "exception": false,
     "start_time": "2025-08-03T13:27:36.497846",
     "status": "completed"
    },
    "tags": []
   },
   "outputs": [],
   "source": [
    "X_test = df_test.loc[:,['capital_social', 'idade_cnpj', 'segmento_cliente']]\n",
    "X_test = encoder.transform(X_test)\n",
    "y_pred_proba = rf.predict_proba(X_test)[:, 1]\n",
    "submission = pd.DataFrame({'id': df_test.id.values, 'target': y_pred_proba})\n",
    "submission.to_csv('/kaggle/working/submission.csv', index = False)"
   ]
  }
 ],
 "metadata": {
  "kaggle": {
   "accelerator": "none",
   "dataSources": [
    {
     "databundleVersionId": 13250477,
     "sourceId": 111371,
     "sourceType": "competition"
    }
   ],
   "dockerImageVersionId": 31089,
   "isGpuEnabled": false,
   "isInternetEnabled": true,
   "language": "python",
   "sourceType": "notebook"
  },
  "kernelspec": {
   "display_name": "Python 3",
   "language": "python",
   "name": "python3"
  },
  "language_info": {
   "codemirror_mode": {
    "name": "ipython",
    "version": 3
   },
   "file_extension": ".py",
   "mimetype": "text/x-python",
   "name": "python",
   "nbconvert_exporter": "python",
   "pygments_lexer": "ipython3",
   "version": "3.11.13"
  },
  "papermill": {
   "default_parameters": {},
   "duration": 10.976237,
   "end_time": "2025-08-03T13:27:37.285865",
   "environment_variables": {},
   "exception": null,
   "input_path": "__notebook__.ipynb",
   "output_path": "__notebook__.ipynb",
   "parameters": {},
   "start_time": "2025-08-03T13:27:26.309628",
   "version": "2.6.0"
  }
 },
 "nbformat": 4,
 "nbformat_minor": 5
}
